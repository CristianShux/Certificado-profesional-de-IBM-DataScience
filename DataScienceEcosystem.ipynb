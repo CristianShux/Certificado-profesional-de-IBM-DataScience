{
 "cells": [
  {
   "cell_type": "markdown",
   "id": "2f640f59-03ff-4dc4-9c4f-c72ca75e4f9a",
   "metadata": {},
   "source": [
    "# Data Science Tools and Ecosystem\n"
   ]
  },
  {
   "cell_type": "markdown",
   "id": "ebd5d387-1b82-4e46-8096-5d0bcd006a1e",
   "metadata": {},
   "source": [
    "In this notebook, Data Science Tools and Ecosystem are summarized."
   ]
  },
  {
   "cell_type": "markdown",
   "id": "8b918853-eb65-47da-8acd-594e909d699a",
   "metadata": {},
   "source": [
    "**Objectives:**\n",
    "\n",
    "+ List popular languages for Data Science\n",
    "+ List the libraries most used by data scientists\n",
    "+ Development environments open source tools used in data science.\n",
    "+ Examples of evaluating arithmetic expressions in Python"
   ]
  },
  {
   "cell_type": "markdown",
   "id": "bc102554-9bf3-4d91-b7bb-0d280ed419b1",
   "metadata": {},
   "source": [
    "Some of the popular languages that Data Scientists use are:\n",
    "\n",
    "1. Python\n",
    "2. R \n",
    "3. SQL  \n",
    "4. Java \n",
    "5. Scala \n",
    "6. C++   \n",
    "7. JavaScript  \n",
    "8. Julia"
   ]
  },
  {
   "cell_type": "markdown",
   "id": "59397cfd-917e-42d0-bc85-033a482c36c6",
   "metadata": {},
   "source": [
    "Some of the commonly used libraries used by Data Scientists include:\n",
    "\n",
    "1. Pandas\n",
    "2. Numpy\n",
    "3. Matplotlib\n",
    "4. Seaborn\n",
    "5. Scikit-learn\n",
    "6. Spark\n",
    "7. Vegas \n",
    "8. GGplot2\n"
   ]
  },
  {
   "cell_type": "markdown",
   "id": "78db0f12-d0dd-4784-b14e-9ef9c7507901",
   "metadata": {},
   "source": [
    "\n",
    "|Data Science Tools|\n",
    "|------------------|\n",
    "|Jupyter           |\n",
    "|RStudio           |\n",
    "|Apache Zeppelin   |"
   ]
  },
  {
   "cell_type": "markdown",
   "id": "63a5b5b3-ef66-43c3-8e8b-27e12b5b17b4",
   "metadata": {},
   "source": [
    "### Below are a few examples of evaluating arithmetic expressions in Python."
   ]
  },
  {
   "cell_type": "code",
   "execution_count": 23,
   "id": "08de00fd-61ad-4a1c-a486-3e22437cec92",
   "metadata": {},
   "outputs": [
    {
     "data": {
      "text/plain": [
       "17"
      ]
     },
     "execution_count": 23,
     "metadata": {},
     "output_type": "execute_result"
    }
   ],
   "source": [
    "#This a simple arithmetic expression to mutiply then add integers\n",
    "(3*4)+5"
   ]
  },
  {
   "cell_type": "code",
   "execution_count": 24,
   "id": "b3f4bf24-e1ec-4685-a0c3-e46e2217c446",
   "metadata": {},
   "outputs": [
    {
     "data": {
      "text/plain": [
       "3.3333333333333335"
      ]
     },
     "execution_count": 24,
     "metadata": {},
     "output_type": "execute_result"
    }
   ],
   "source": [
    "#This will convert 200 minutes to hours by diving by 60\n",
    "200/60"
   ]
  },
  {
   "cell_type": "markdown",
   "id": "01725ffa-2bc0-4e44-b46a-4c44604bd35d",
   "metadata": {},
   "source": [
    "## Author\n",
    "Cristian Leonel Jurajuria"
   ]
  }
 ],
 "metadata": {
  "kernelspec": {
   "display_name": "Python 3 (ipykernel)",
   "language": "python",
   "name": "python3"
  },
  "language_info": {
   "codemirror_mode": {
    "name": "ipython",
    "version": 3
   },
   "file_extension": ".py",
   "mimetype": "text/x-python",
   "name": "python",
   "nbconvert_exporter": "python",
   "pygments_lexer": "ipython3",
   "version": "3.11.7"
  }
 },
 "nbformat": 4,
 "nbformat_minor": 5
}
